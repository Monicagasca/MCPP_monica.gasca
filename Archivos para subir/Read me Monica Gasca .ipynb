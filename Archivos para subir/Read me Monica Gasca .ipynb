{
 "cells": [
  {
   "cell_type": "markdown",
   "metadata": {},
   "source": [
    "# <font color=\"purple\"> Análisis de discruso de la Comisión de Regulación de Energía y Gas sobre el cargo por confiabilidad "
   ]
  },
  {
   "cell_type": "markdown",
   "metadata": {},
   "source": [
    "### Mónica Gasca, Noviembre 2016"
   ]
  },
  {
   "cell_type": "markdown",
   "metadata": {},
   "source": [
    "## Motivación y descripción ##\n",
    "\n",
    "\n",
    "El fenómeno de El Niño ocurrido entre septiembre de 2015 y abril de 2016, puso en duda la sostenibilidad del sector eléctrico colombiano, especialmente el funcionamiento del esquema de cargo por confiabilidad, el cual ha sido durante 10 años el esquema de expansión implementado en el mercado eléctrico. \n",
    "\n",
    "Durante pasada la crisis eléctrica las agentes percibieron que el discurso de la Comisión de Regulación de Energía y gas (CREG) no era consistente con los fundamentales del esquema expuestos desde el año 2004, lo cual atenta contra la inversión y pone en riesgo la estabilidad de las reglas de juego del mercado. \n",
    "\n",
    "Preguntas de investigación:\n",
    "\n",
    "¿Fue el discurso del Regulador frente al esquema del cargo por confiabilidad y sus principales características y objetivos consistente en los análisis realizados para enfrentar la crisis energética que recientemente impacto al país?\n",
    "\n",
    "¿Como los datos demuestran la ocurrencia de los fenómenos de el niño?\n"
   ]
  },
  {
   "cell_type": "markdown",
   "metadata": {},
   "source": [
    "## Métodos utilizados## \n",
    "\n",
    "\n",
    "1. Scraping\n",
    "\n",
    "Los documentos y las resoluciones expedidas por la Comisión de Regulación de Energía y Gas, se encuentran dentro de la página de esta entidad en dos lugares diferenciados, cuyos links son:  http://apolo.creg.gov.co/Publicac.nsf/Documentos-Resoluciones?openview y http://www.creg.gov.co/index.php/es/normatividad/normas/circulares. \n",
    "\n",
    "Utilizamos la librería Beautifulsoup y métodos de web scraping para obtener los url de los documentos y resoluciones que tratan sobre el cargo por confiabilidad. Se definieron funciones para obtener los links de la totalidad de documentos en cada año de análisis. \n",
    "\n",
    "Después de obtener los url, se seleccionan los que son de interés para el análisis y sobre los cuales trabajaremos. Habiendo seleccionado los links de interés procedemos a limpiar el código, utilizando los métodos de la libreria beautiful soup. Luego se toma cada uno de los links al archivo pdf y se descargan los documentos en pdf. \n",
    "\n",
    "2. Ocr\n",
    "\n",
    "Teniendo los documentos, procedemos a convertir los documentos pdf a texto para posteriormente realizar el análisis, para esto utilizamos Google docs ocr, siguiento las instrucciones del siguiente link https://support.google.com/drive/answer/176692?hl=en\n",
    "\n",
    "Previo a realizar los análisis de los archivos de texto debemos limpiarlos: definimos una función para eliminar la puntuación, las mayúscula y los enter. \n",
    "\n",
    "Para llevar a cabo el análisis anual del discurso, se define una función para identificar si las palabras importantes se encuentran dentro del documento y cuantas veces. El análisis se realiza para cada año, del 2004 al 2007 y del 2015-2016, esto con el fin de lograr comparar el periodo de inicio del funcionamiento del cargo por confiabilidad y el periodo de la crisis experimentada entre 2015 y 2016. \n",
    "\n",
    "palabras_importantes= [\"confiabilidad\", \"cargo\", \"seguro\", \"opción\", \"financiera\", \"expansión\", \"mercado\", \"energía\",\"remuneración\", \"inversión\", \"contratos\", \"señales\", \"escasez\", \"competitiva\", \"neutralidad\", \"política\", \"seguridad\", \"desabastecimiento\", \"capacidad\", \"firme\",\"demanda\", \"cubrimiento\", \"disponibilidad\", \"eficiencia\", \"tecnología\", \"generación\", \"subasta\",\"asegurar\", \"agentes\", \"suministro\", \"incentivos\",\"plantas\", \"generadores\", \"bolsa\", \"combustibles\", \"gas\", \"líquidos\", \"prima\", \"riesgo\", \"compromiso\",\"financiera\", \"optimización\", \"valoración\",\"entrada\",\"costos\", \"oferta\",\"reglas\", \"fenómeno\", \"pico\", \"niño\"]\n",
    "\n",
    "\n",
    "3. Análisis de frecuencia y de dispersión léxica \n",
    "\n",
    "Definimos una función de identificación y otra de conteo para realizar el análisis. Se eliminan las stopwords para centrarnos en las palabras que realmente tienen que ver con el tema antes de obtener las frecuencias. \n",
    "\n",
    "Encontramos la frecuencia de las palabras más comunes en el texto, la longitud de los documentos expedidos en cada año, las palabras comunes por cada año.\n",
    "\n",
    "Se realizan gráficos de barra para evidenciar: la frecuencia de las palabras y el número de documentos que se emiten al año concernientes al cargo por confiabilidad. \n",
    "\n",
    "Finalmente se realiza un análisis lexico gráfico de algunas de las palabras más importantes para ver el momento en el que aparecen en el discurso de la comisión y cual es el patron de repetición. \n",
    "\n",
    "4. Nube de palabras \n",
    "\n",
    "Para realizar la nube de palabras se encontraron varios retos al momento de importar WordCloud de la librería wordcloud, por lo cual se instalo PIP se verificaron los componenetes instalados en anaconda, se instalo un wheel para que el archivo comprimido de wordcloud pudiera correr, sin embargo hay un error que aparece constantemente que impide que la nube de palabras se genere. \n"
   ]
  },
  {
   "cell_type": "markdown",
   "metadata": {},
   "source": [
    "## Resultados##\n",
    "\n",
    "Se evidencia la aparición de palabras como Costos, Disponibilidad, seguro en el segundo periodo analizado, lo cual se atribuye a la presencia del fenómeno de el niño y el alza de precios que experimentó el país.  \n",
    "\n",
    "Se evidencia el aumento en la expedición de documentos debido a la crisis energética. \n",
    "\n",
    "Las palabras claves han ido cambiando desde el momento de expedición del cargo. \n"
   ]
  }
 ],
 "metadata": {
  "kernelspec": {
   "display_name": "Python [Root]",
   "language": "python",
   "name": "Python [Root]"
  },
  "language_info": {
   "codemirror_mode": {
    "name": "ipython",
    "version": 3
   },
   "file_extension": ".py",
   "mimetype": "text/x-python",
   "name": "python",
   "nbconvert_exporter": "python",
   "pygments_lexer": "ipython3",
   "version": "3.5.2"
  }
 },
 "nbformat": 4,
 "nbformat_minor": 0
}
