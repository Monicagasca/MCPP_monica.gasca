{
 "cells": [
  {
   "cell_type": "markdown",
   "metadata": {},
   "source": [
    "# Taller 6\n",
    "Métodos Computacionales para Políticas Públicas - URosario\n",
    "\n",
    "**Entrega: viernes 30-sep-2016 11:59 PM**"
   ]
  },
  {
   "cell_type": "markdown",
   "metadata": {},
   "source": [
    "<div class=\"alert alert-success\">\n",
    "**[Mónica Gasca]** <br><br>\n",
    "[monicagascarojas@gmail.com]\n",
    "</div>"
   ]
  },
  {
   "cell_type": "markdown",
   "metadata": {},
   "source": [
    "## Instrucciones:\n",
    "- Guarde una copia de este *Jupyter Notebook* en su computador, idealmente en una carpeta destinada al material del curso.\n",
    "- Modifique el nombre del archivo del *notebook*, agregando al final un guión inferior y su nombre y apellido, separados estos últimos por otro guión inferior. Por ejemplo, mi *notebook* se llamaría: mcpp_taller6_santiago_matallana\n",
    "- Marque el *notebook* con su nombre y e-mail en el bloque verde arriba. Reemplace el texto \"[Su nombre acá]\" con su nombre y apellido. Similar para su e-mail.\n",
    "- Desarrolle la totalidad del taller sobre este *notebook*, insertando las celdas que sea necesario debajo de cada pregunta. Haga buen uso de las celdas para código y de las celdas tipo *markdown* según el caso.\n",
    "- Recuerde salvar periódicamente sus avances.\n",
    "- Cuando termine el taller:\n",
    "    1. Descárguelo en PDF. Si tiene algún problema con la conversión, descárguelo en HTML.\n",
    "    2. Suba todos los archivos a su repositorio en GitHub, en una carpeta destinada exclusivamente para este taller, antes de la fecha y hora límites.\n",
    "\n",
    "(Todos los ejercicios tienen el mismo valor.)"
   ]
  },
  {
   "cell_type": "markdown",
   "metadata": {},
   "source": [
    "---"
   ]
  },
  {
   "cell_type": "markdown",
   "metadata": {},
   "source": [
    "## 1. Exercise 7: Numpy practice\n",
    "\n",
    "Start up Python (best to use Spyder) and use it to answer the following ques-\n",
    "tions. Use the following imports:\n",
    "\n",
    "import numpy as np\n",
    "\n",
    "import scipy.linalg as la\n",
    "\n",
    "import matplotlib.pyplot as plt\n",
    "\n",
    "1. Choose a value and set the variable x to that value.\n",
    "2. What is command to compute the square of x? Its cube?\n",
    "3. Choose an angle \u0012 and set the variable theta to its value (a number).\n",
    "4. What is sin \u0012? cos \u0012? Angles can be measured in degrees or radians.\n",
    "Which of these are being used?\n",
    "5. Use the np.linspace function to create a row vector called meshPoints\n",
    "containing exactly 500 values with values evenly spaced between -1 and 1.\n",
    "6. What expression will yield the value of the 53th element of meshPoints?\n",
    "What is this value?\n",
    "7. Produce a plot of a sinusoid on the interval [-1; 1] using the command\n",
    "plt.plot(meshPoints,np.sin(2*pi*meshPoints))\n",
    "Please save this plot as a jpeg (.jpg) \f",
    "le and send it along with your work."
   ]
  },
  {
   "cell_type": "code",
   "execution_count": 29,
   "metadata": {
    "collapsed": false
   },
   "outputs": [],
   "source": [
    "import numpy as np\n",
    "import scipy.linalg as la\n",
    "import matplotlib.pyplot as plt"
   ]
  },
  {
   "cell_type": "code",
   "execution_count": 30,
   "metadata": {
    "collapsed": false
   },
   "outputs": [
    {
     "name": "stdout",
     "output_type": "stream",
     "text": [
      "100\n",
      "1000\n"
     ]
    }
   ],
   "source": [
    "x= 10\n",
    "print (np.square(x))\n",
    "print (np.power(x, 3))"
   ]
  },
  {
   "cell_type": "code",
   "execution_count": 31,
   "metadata": {
    "collapsed": false,
    "scrolled": true
   },
   "outputs": [
    {
     "name": "stdout",
     "output_type": "stream",
     "text": [
      "sin - cos of theta in radians\n",
      "0.912945250728\n",
      "0.408082061813\n",
      "sin - cos of theta in degrees\n",
      "52.3079097932\n",
      "23.3813798369\n"
     ]
    }
   ],
   "source": [
    "theta=20\n",
    "print(\"sin - cos of theta in radians\")\n",
    "\n",
    "print (np.sin(theta))\n",
    "print (np.cos(theta))\n",
    "\n",
    "print(\"sin - cos of theta in degrees\")\n",
    "\n",
    "print (np.degrees(np.sin(theta)))\n",
    "print (np.degrees(np.cos(theta)))\n",
    "\n",
    "##The data is measured in radians, to convert it to degrees we use np.degrees()\n"
   ]
  },
  {
   "cell_type": "code",
   "execution_count": 32,
   "metadata": {
    "collapsed": false
   },
   "outputs": [],
   "source": [
    "meshpoints = np.linspace(-1, 1, num=500, endpoint=True, retstep=False, dtype=None)"
   ]
  },
  {
   "cell_type": "code",
   "execution_count": 33,
   "metadata": {
    "collapsed": false
   },
   "outputs": [
    {
     "data": {
      "text/plain": [
       "-0.78757515030060121"
      ]
     },
     "execution_count": 33,
     "metadata": {},
     "output_type": "execute_result"
    }
   ],
   "source": [
    "meshpoints[53]"
   ]
  },
  {
   "cell_type": "code",
   "execution_count": 15,
   "metadata": {
    "collapsed": false
   },
   "outputs": [],
   "source": [
    "s= np.sin(meshpoints)\n",
    "plt.plot(meshpoints,s)\n",
    "plt.show()"
   ]
  },
  {
   "cell_type": "markdown",
   "metadata": {},
   "source": [
    "## 3. Exercise 9: Plotting\n",
    "    \n",
    "1 Use matplotlib.pyplot.plot to produce a plot of the functions f(x) =\n",
    "e-x/10 sin(pi*x) and g(x) = xe-x/3 over the interval [0; 10]. Include labels\n",
    "for the x- and y-axes, and a legend explaining which line is which plot.\n",
    "Save the plot as a .jpg (\\Jpeg\") file and send me a copy with your work."
   ]
  },
  {
   "cell_type": "code",
   "execution_count": 16,
   "metadata": {
    "collapsed": false
   },
   "outputs": [],
   "source": [
    "import numpy as np\n",
    "import math\n",
    "import matplotlib.pyplot as plt\n",
    "\n",
    "plt.title= (\"Gráfico Funciones\")\n",
    "plt.ylabel(\"Valores y\")\n",
    "plt.xlabel(\"Valores x\")\n",
    "\n",
    "x= np.linspace(0, 10)\n",
    "p= (-x/10)\n",
    "q= (-x/3)\n",
    "\n",
    "j = np.sin(np.pi*x)\n",
    "f= (np.exp(p)* j)\n",
    "g = (x*(np.exp(q)))\n",
    "\n",
    "plt.plot(x, f, \"r\") \n",
    "plt.plot(x, g, \"b\") \n",
    "\n",
    "plt.show()"
   ]
  },
  {
   "cell_type": "markdown",
   "metadata": {
    "collapsed": true
   },
   "source": [
    "2 The shape of a limacon can be defined parametrically as\n",
    "\n",
    "\n",
    "r = r0 + cos (theta)\n",
    "\n",
    "x = r cos (theta)\n",
    "\n",
    "y = r sin (theta)\n",
    "\n",
    "\n",
    "When r0 = 1, this curve is called a cardioid. Use this definition to plot\n",
    "the shape of a limacon for r0 = 0.8, r0 = 1.0 , and r0 = 1.2 Be sure to\n",
    "use enough points that the curve is closed and appears smooth (except for\n",
    "the cusp in the cardioid). Use a legend to identify which curve is which.\n",
    "Save the plot as a .pdf file and send me a copy with your work."
   ]
  },
  {
   "cell_type": "code",
   "execution_count": 74,
   "metadata": {
    "collapsed": false
   },
   "outputs": [],
   "source": [
    "import numpy as np\n",
    "import math\n",
    "import matplotlib.pyplot as plt\n",
    "\n",
    "theta = np.linspace(-np.pi, np.pi, 60)\n",
    "\n",
    "for i in np.arange (0,3,0.2):\n",
    "    r = i + np.cos(theta)\n",
    "    \n",
    "    if i ==0.8:\n",
    "        x = r*(np.cos(theta))\n",
    "        y = r*(np.sin(theta))     \n",
    "        ax = plt.subplot(111, polar=True, axisbg='Azure')  \n",
    "        ax.set_rmax(2.0) \n",
    "        ax.grid(True) \n",
    "        \n",
    "        ax.plot(theta, x, color='Tomato', label='x')  \n",
    "        ax.plot(theta, y, color='purple', label = 'y')\n",
    "        ax.legend(loc=\"lower right\")   \n",
    "        ax.set_title(\"Intento de gráfica\", va='bottom')\n",
    "    \n",
    "    if i ==1.2:\n",
    "        x = r*(np.cos(theta))\n",
    "        y = r*(np.sin(theta))     \n",
    "        ax = plt.subplot(111, polar=True, axisbg='Azure')  \n",
    "        ax.set_rmax(2.0) \n",
    "        ax.grid(True) \n",
    "        \n",
    "        ax.plot(theta, x, color='Tomato', label='x')  \n",
    "        ax.plot(theta, y, color='purple', label = 'y')\n",
    "        ax.legend(loc=\"lower right\")   \n",
    "        ax.set_title(\"Intento de gráfica\", va='bottom')\n",
    "        \n",
    "plt.show()"
   ]
  }
 ],
 "metadata": {
  "anaconda-cloud": {},
  "kernelspec": {
   "display_name": "Python [Root]",
   "language": "python",
   "name": "Python [Root]"
  },
  "language_info": {
   "codemirror_mode": {
    "name": "ipython",
    "version": 3
   },
   "file_extension": ".py",
   "mimetype": "text/x-python",
   "name": "python",
   "nbconvert_exporter": "python",
   "pygments_lexer": "ipython3",
   "version": "3.5.2"
  }
 },
 "nbformat": 4,
 "nbformat_minor": 0
}
