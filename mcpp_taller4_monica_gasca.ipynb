{
 "cells": [
  {
   "cell_type": "markdown",
   "metadata": {},
   "source": [
    "# Taller 4\n",
    "Métodos Computacionales para Políticas Públicas - URosario\n",
    "\n",
    "**Entrega: viernes 2-sep-2016 11:59 PM**"
   ]
  },
  {
   "cell_type": "markdown",
   "metadata": {},
   "source": [
    "<div class=\"alert alert-success\">\n",
    "**[Mónica Gasca]** <br><br>\n",
    "[monicagascarojas@gmail.com]\n",
    "</div>"
   ]
  },
  {
   "cell_type": "markdown",
   "metadata": {},
   "source": [
    "## Instrucciones:\n",
    "- Guarde una copia de este *Jupyter Notebook* en su computador, idealmente en una carpeta destinada al material del curso.\n",
    "- Modifique el nombre del archivo del *notebook*, agregando al final un guión inferior y su nombre y apellido, separados estos últimos por otro guión inferior. Por ejemplo, mi *notebook* se llamaría: mcpp_taller4_santiago_matallana\n",
    "- Marque el *notebook* con su nombre y e-mail en el bloque verde arriba. Reemplace el texto \"[Su nombre acá]\" con su nombre y apellido. Similar para su e-mail.\n",
    "- Desarrolle la totalidad del taller sobre este *notebook*, insertando las celdas que sea necesario debajo de cada pregunta. Haga buen uso de las celdas para código y de las celdas tipo *markdown* según el caso.\n",
    "- Recuerde salvar periódicamente sus avances.\n",
    "- Cuando termine el taller:\n",
    "    1. Descárguelo en PDF.\n",
    "    2. Suba los dos archivos (.pdf y .ipynb) a su repositorio en GitHub antes de la fecha y hora límites.\n",
    "\n",
    "(Todos los ejercicios tienen el mismo valor.)"
   ]
  },
  {
   "cell_type": "markdown",
   "metadata": {},
   "source": [
    "---"
   ]
  },
  {
   "cell_type": "markdown",
   "metadata": {},
   "source": [
    "## Zelle, Exercises 6.8 (p. 159):\n",
    "\n",
    "- True/False: 1-10\n",
    "- Multiple choice: 2, 3, 6, 7, 10\n",
    "- Programming Exercises: 1, 3, 4, 11, 12, 13"
   ]
  },
  {
   "cell_type": "markdown",
   "metadata": {},
   "source": [
    "## Ejercicio verdadero/falso"
   ]
  },
  {
   "cell_type": "markdown",
   "metadata": {},
   "source": [
    "1.False\n",
    "\n",
    "2.False, it may be called multiple times.  \n",
    "\n",
    "3.True, parameters allow functions to have changeable parts. \n",
    "\n",
    "4.False\n",
    "\n",
    "5.False, parameters are always passed by values in python.  \n",
    "\n",
    "6.False, may return multiple values.\n",
    "\n",
    "7.False, functions can communicate back to the calling program by making changes to the parameters.\n",
    "\n",
    "8.True\n",
    "\n",
    "9.True\n",
    "\n",
    "10.False\n"
   ]
  },
  {
   "cell_type": "markdown",
   "metadata": {},
   "source": [
    "## Ejercicio opción múltiple"
   ]
  },
  {
   "cell_type": "markdown",
   "metadata": {},
   "source": [
    "2.a\n",
    "\n",
    "3.a\n",
    "\n",
    "6.a\n",
    "\n",
    "7.d\n",
    "\n",
    "10.a"
   ]
  },
  {
   "cell_type": "markdown",
   "metadata": {},
   "source": [
    "## Ejercicios de programación "
   ]
  },
  {
   "cell_type": "markdown",
   "metadata": {
    "collapsed": true
   },
   "source": [
    "### 1. Write a program to print the lyrics of the song \"Old MacDonald\" Your program should print the lyrics for five different animals, similar to the example verse below.\n",
    "\n"
   ]
  },
  {
   "cell_type": "code",
   "execution_count": 37,
   "metadata": {
    "collapsed": false,
    "scrolled": true
   },
   "outputs": [
    {
     "name": "stdout",
     "output_type": "stream",
     "text": [
      "Old MacDonald had a farm, Ee-igh, Ee-igh, Oh! \n",
      "And on the farm he had a cow, Ee-igh, Ee-igh, Oh!\n",
      "With a moo, here and a moo, moo there.\n",
      "Here a moo, there a moo, everywhere a moo, moo.\n",
      "Old MacDonald had a farm, Ee-igh, Ee-igh, Oh! \n",
      "Old MacDonald had a farm, Ee-igh, Ee-igh, Oh! \n",
      "And on the farm he had a pig, Ee-igh, Ee-igh, Oh!\n",
      "With a oink, here and a oink, oink there.\n",
      "Here a oink, there a oink, everywhere a oink, oink.\n",
      "Old MacDonald had a farm, Ee-igh, Ee-igh, Oh! \n",
      "Old MacDonald had a farm, Ee-igh, Ee-igh, Oh! \n",
      "And on the farm he had a dog, Ee-igh, Ee-igh, Oh!\n",
      "With a guau, here and a guau, guau there.\n",
      "Here a guau, there a guau, everywhere a guau, guau.\n",
      "Old MacDonald had a farm, Ee-igh, Ee-igh, Oh! \n",
      "Old MacDonald had a farm, Ee-igh, Ee-igh, Oh! \n",
      "And on the farm he had a cat, Ee-igh, Ee-igh, Oh!\n",
      "With a miau, here and a miau, miau there.\n",
      "Here a miau, there a miau, everywhere a miau, miau.\n",
      "Old MacDonald had a farm, Ee-igh, Ee-igh, Oh! \n",
      "Old MacDonald had a farm, Ee-igh, Ee-igh, Oh! \n",
      "And on the farm he had a sheep, Ee-igh, Ee-igh, Oh!\n",
      "With a beeeh, here and a beeeh, beeeh there.\n",
      "Here a beeeh, there a beeeh, everywhere a beeeh, beeeh.\n",
      "Old MacDonald had a farm, Ee-igh, Ee-igh, Oh! \n"
     ]
    }
   ],
   "source": [
    "def song ():\n",
    "    print (\"Old MacDonald had a farm, Ee-igh, Ee-igh, Oh! \")\n",
    "\n",
    "def songcow():\n",
    "    song()\n",
    "    print (\"And on the farm he had a cow, Ee-igh, Ee-igh, Oh!\")\n",
    "    print (\"With a moo, here and a moo, moo there.\")\n",
    "    print (\"Here a moo, there a moo, everywhere a moo, moo.\")\n",
    "    song()\n",
    "\n",
    "def songpig():\n",
    "    song()\n",
    "    print (\"And on the farm he had a pig, Ee-igh, Ee-igh, Oh!\")\n",
    "    print (\"With a oink, here and a oink, oink there.\")\n",
    "    print (\"Here a oink, there a oink, everywhere a oink, oink.\")\n",
    "    song()\n",
    "    \n",
    "def songdog():\n",
    "    song()\n",
    "    print (\"And on the farm he had a dog, Ee-igh, Ee-igh, Oh!\")\n",
    "    print (\"With a guau, here and a guau, guau there.\")\n",
    "    print (\"Here a guau, there a guau, everywhere a guau, guau.\")\n",
    "    song() \n",
    "\n",
    "def songcat():\n",
    "    song()\n",
    "    print (\"And on the farm he had a cat, Ee-igh, Ee-igh, Oh!\")\n",
    "    print (\"With a miau, here and a miau, miau there.\")\n",
    "    print (\"Here a miau, there a miau, everywhere a miau, miau.\")\n",
    "    song() \n",
    "\n",
    "def songsheep():\n",
    "    song()\n",
    "    print (\"And on the farm he had a sheep, Ee-igh, Ee-igh, Oh!\")\n",
    "    print (\"With a beeeh, here and a beeeh, beeeh there.\")\n",
    "    print (\"Here a beeeh, there a beeeh, everywhere a beeeh, beeeh.\")\n",
    "    song() \n",
    "\n",
    "def main():\n",
    "    songcow()\n",
    "    songpig()\n",
    "    songdog()\n",
    "    songcat()\n",
    "    songsheep()\n",
    "\n",
    "main()"
   ]
  },
  {
   "cell_type": "code",
   "execution_count": 45,
   "metadata": {
    "collapsed": false
   },
   "outputs": [
    {
     "name": "stdout",
     "output_type": "stream",
     "text": [
      "Old MacDonald had a farm, Ee-igh, Ee-igh, Oh!\n",
      "And on the farm he had a  cow, Ee-igh, Ee-igh, Oh!\n",
      "With a  moo, here and a  moo,  moo there.\n",
      "Here a  moo, there a  moo, everywhere a  moo,  moo.\n",
      "Old MacDonald had a farm, Ee-igh, Ee-igh, Oh!\n",
      "Old MacDonald had a farm, Ee-igh, Ee-igh, Oh!\n",
      "And on the farm he had a  pig, Ee-igh, Ee-igh, Oh!\n",
      "With a  oink, here and a  oink,  oink there.\n",
      "Here a  oink, there a  oink, everywhere a  oink,  oink.\n",
      "Old MacDonald had a farm, Ee-igh, Ee-igh, Oh!\n",
      "Old MacDonald had a farm, Ee-igh, Ee-igh, Oh!\n",
      "And on the farm he had a  cat, Ee-igh, Ee-igh, Oh!\n",
      "With a  miau, here and a  miau,  miau there.\n",
      "Here a  miau, there a  miau, everywhere a  miau,  miau.\n",
      "Old MacDonald had a farm, Ee-igh, Ee-igh, Oh!\n",
      "Old MacDonald had a farm, Ee-igh, Ee-igh, Oh!\n",
      "And on the farm he had a  dog, Ee-igh, Ee-igh, Oh!\n",
      "With a  guau, here and a  guau,  guau there.\n",
      "Here a  guau, there a  guau, everywhere a  guau,  guau.\n",
      "Old MacDonald had a farm, Ee-igh, Ee-igh, Oh!\n",
      "Old MacDonald had a farm, Ee-igh, Ee-igh, Oh!\n",
      "And on the farm he had a  sheep, Ee-igh, Ee-igh, Oh!\n",
      "With a  beeeh, here and a  beeeh,  beeeh there.\n",
      "Here a  beeeh, there a  beeeh, everywhere a  beeeh,  beeeh.\n",
      "Old MacDonald had a farm, Ee-igh, Ee-igh, Oh!\n"
     ]
    }
   ],
   "source": [
    "def animals(animal, sound):\n",
    "    print (\"Old MacDonald had a farm, Ee-igh, Ee-igh, Oh!\")\n",
    "    print (\"And on the farm he had a \", animal + \", Ee-igh, Ee-igh, Oh!\")\n",
    "    print (\"With a \", sound + \", here and a \", sound + \", \", sound + \" there.\")\n",
    "    print (\"Here a \", sound + \", there a \", sound + \", everywhere a \", sound + \", \", sound + \".\")\n",
    "    print (\"Old MacDonald had a farm, Ee-igh, Ee-igh, Oh!\" )\n",
    "    \n",
    "def song():\n",
    "    animals (\"cow\",\"moo\")\n",
    "    animals (\"pig\", \"oink\")\n",
    "    animals (\"cat\", \"miau\")\n",
    "    animals (\"dog\", \"guau\")\n",
    "    animals (\"sheep\", \"beeeh\")\n",
    "\n",
    "song()\n",
    "    "
   ]
  },
  {
   "cell_type": "markdown",
   "metadata": {},
   "source": [
    "### 3. Write definitions for these functions: \n",
    "\n",
    "sphereArea(radius) Returns the surface area of a sphere having the given radius. \n",
    "\n",
    "sphereVolume(radius) Returns the volume of a sphere having the given radius. "
   ]
  },
  {
   "cell_type": "code",
   "execution_count": 1,
   "metadata": {
    "collapsed": false
   },
   "outputs": [
    {
     "name": "stdout",
     "output_type": "stream",
     "text": [
      "Calculadora de area y volumen\n",
      "Ingrese el radio5\n",
      "Con un radio de 5\n",
      "El área de la esfera es 314.1592653589793\n",
      "El volumen de la esfera es 523.5987755982989\n"
     ]
    }
   ],
   "source": [
    "pi=3.14159265358979323846\n",
    "\n",
    "def sphereArea(radius):\n",
    "    area = pi*4*(radius**2)\n",
    "    return area \n",
    "\n",
    "def sphereVolume(radius):\n",
    "    volume = (4/3)*pi*(radius**3)\n",
    "    return volume\n",
    "\n",
    "def main():\n",
    "    print (\"Calculadora de area y volumen\")\n",
    "    radio= eval (input(\"Ingrese el radio\"))\n",
    "    area = sphereArea(radio)\n",
    "    volumen= sphereVolume(radio)\n",
    "    print (\"Con un radio de\", radio)\n",
    "    print (\"El área de la esfera es\", area)\n",
    "    print (\"El volumen de la esfera es\", volumen)\n",
    "           \n",
    "main ()\n",
    "    "
   ]
  },
  {
   "cell_type": "markdown",
   "metadata": {},
   "source": [
    "### 4. Write definitions for the following two functions: \n",
    "\n",
    "sumN(n) returns the sum of the first n natural numbers.\n",
    "\n",
    "sumNCubes(n) returns the sum of the cubes of the first n natural numbers. \n"
   ]
  },
  {
   "cell_type": "code",
   "execution_count": 4,
   "metadata": {
    "collapsed": false
   },
   "outputs": [
    {
     "name": "stdout",
     "output_type": "stream",
     "text": [
      "Ingrese un n: 8\n",
      "La suma de los primeros n números es  36\n",
      "la suma de los cubos de los primeros n números es 1296\n"
     ]
    }
   ],
   "source": [
    "def sumN(n):\n",
    "    resultado = 0\n",
    "    for i in range(n + 1):\n",
    "        resultado += i\n",
    "    return resultado \n",
    "\n",
    "def sumNcubes(n):\n",
    "    resultado = 0\n",
    "    for i in range (n + 1):\n",
    "        resultado += i**3\n",
    "    return resultado\n",
    "\n",
    "def resultados():\n",
    "    n = int (input(\"Ingrese un n: \"))\n",
    "    print (\"La suma de los primeros n números es \",sumN(n))\n",
    "    print (\"la suma de los cubos de los primeros n números es\",sumNcubes(n))\n",
    "    \n",
    "resultados()\n"
   ]
  },
  {
   "cell_type": "markdown",
   "metadata": {},
   "source": [
    "### 11. Write and test a function to meet this specification. \n",
    "\n",
    "squareEach(nums) nums is a list of numbers. Modifies the list by squaring each entry."
   ]
  },
  {
   "cell_type": "code",
   "execution_count": 27,
   "metadata": {
    "collapsed": false
   },
   "outputs": [
    {
     "name": "stdout",
     "output_type": "stream",
     "text": [
      "Números al cuadrado\n",
      "ingrese una lista de números separados por comas: 5,8,9\n",
      "El resultado de elevar al cuadrado es [25, 64, 81]\n"
     ]
    }
   ],
   "source": [
    "def squareEach(nums):\n",
    "    resultado = 0\n",
    "    for i in nums:\n",
    "        nums [resultado] = i**2\n",
    "        resultado = resultado+1\n",
    "        \n",
    "def main():\n",
    "    print (\"Números al cuadrado\")\n",
    "    nums = input(\"ingrese una lista de números separados por comas: \")\n",
    "    nums= nums.split(\",\")\n",
    "    \n",
    "    resultado= 0\n",
    "    for i in nums:\n",
    "        nums [resultado]= int (i)\n",
    "        resultado= resultado+1\n",
    "    squareEach(nums)\n",
    "    print (\"El resultado de elevar al cuadrado es\", nums)\n",
    "    \n",
    "main()\n",
    "    "
   ]
  },
  {
   "cell_type": "markdown",
   "metadata": {},
   "source": [
    "### 12. Write and test a function to meet this specification.\n",
    "\n",
    "sumList(nums) nums is a list of numbers. Returns the sum of the numbers in the list. "
   ]
  },
  {
   "cell_type": "code",
   "execution_count": 19,
   "metadata": {
    "collapsed": false
   },
   "outputs": [
    {
     "name": "stdout",
     "output_type": "stream",
     "text": [
      "Sumar listas de números\n",
      "Ingrese varios números separados por comas:5,8,9\n",
      "La suma de los números ingresados es  22\n"
     ]
    }
   ],
   "source": [
    "def sumList (nums):\n",
    "    resultado=0\n",
    "    for i in nums:\n",
    "        resultado= resultado + i\n",
    "    return resultado\n",
    "\n",
    "def main():\n",
    "    print (\"Sumar listas de números\")\n",
    "    nums = input (\"Ingrese varios números separados por comas:\")\n",
    "    nums= nums.split (\",\")\n",
    "    entry= 0\n",
    "    for i in nums:\n",
    "        nums[entry]= int (i)\n",
    "        entry= entry + 1\n",
    "       \n",
    "    sumatotal= sumList(nums)\n",
    "    \n",
    "    print (\"La suma de los números ingresados es \", sumatotal)\n",
    "    \n",
    "main ()\n",
    "    \n",
    "    "
   ]
  },
  {
   "cell_type": "markdown",
   "metadata": {},
   "source": [
    "### 13. Write and test a function to meet this specification."
   ]
  },
  {
   "cell_type": "markdown",
   "metadata": {},
   "source": [
    "toNumbers(strList) strList is a list of strings, each of which represents a number. Modifies each entry in the list by converting it to a number. "
   ]
  },
  {
   "cell_type": "code",
   "execution_count": 16,
   "metadata": {
    "collapsed": false
   },
   "outputs": [
    {
     "data": {
      "text/plain": [
       "[3, 5, 7]"
      ]
     },
     "execution_count": 16,
     "metadata": {},
     "output_type": "execute_result"
    }
   ],
   "source": [
    "def toNumbers(strList):\n",
    "    return [int(num) for num in strList]\n",
    "\n",
    "a= [\"3\",\"5\", \"7\"]\n",
    "\n",
    "b= toNumbers (a)\n",
    "b"
   ]
  }
 ],
 "metadata": {
  "anaconda-cloud": {},
  "kernelspec": {
   "display_name": "Python [Root]",
   "language": "python",
   "name": "Python [Root]"
  },
  "language_info": {
   "codemirror_mode": {
    "name": "ipython",
    "version": 3
   },
   "file_extension": ".py",
   "mimetype": "text/x-python",
   "name": "python",
   "nbconvert_exporter": "python",
   "pygments_lexer": "ipython3",
   "version": "3.5.2"
  }
 },
 "nbformat": 4,
 "nbformat_minor": 0
}
